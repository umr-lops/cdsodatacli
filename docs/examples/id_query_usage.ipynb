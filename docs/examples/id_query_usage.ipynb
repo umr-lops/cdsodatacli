{
 "cells": [
  {
   "cell_type": "markdown",
   "id": "a593c45c-1382-4ba2-a1ec-5f0aea6d9fcf",
   "metadata": {},
   "source": [
    "# How to use 'id_query' ?"
   ]
  },
  {
   "cell_type": "markdown",
   "id": "04807533-11e7-4e01-83a8-e187e7298453",
   "metadata": {},
   "source": [
    "the 'id_query' is used in the Geo Pandas DataFrame as a key to distinguish different requests passed through the same GeoDataFrame.\n",
    "\n",
    "Exact same query given twice with distinct 'id_query' will result in excact same results but stored twice in the output DataFrame.\n",
    "\n",
    "The 'id_query' is also stored in the output DataFrame as 'id_original_query'."
   ]
  },
  {
   "cell_type": "code",
   "execution_count": null,
   "id": "94ad96ea-c076-45b4-946c-e8b9aad7eee9",
   "metadata": {},
   "outputs": [],
   "source": [
    "import geopandas as gpd\n",
    "import numpy as np\n",
    "import cdsodatacli.query as qr\n",
    "def example():\n",
    "    \"\"\"\n",
    "    define a query with 2 identical sets of parameters except 'id_query'\n",
    "    \"\"\"\n",
    "    gdf_multi_id = gpd.GeoDataFrame(\n",
    "        {\n",
    "            \"start_datetime\": [\n",
    "                np.datetime64(\"2022-05-03 00:00:00\"),\n",
    "                np.datetime64(\"2022-05-03 00:00:00\"),\n",
    "            ],\n",
    "            \"end_datetime\": [\n",
    "                np.datetime64(\"2022-05-03 00:02:00\"),\n",
    "                np.datetime64(\"2022-05-03 00:02:00\"),\n",
    "            ],\n",
    "            \"geometry\": [None, None],\n",
    "            \"collection\": [\"SENTINEL-2\", \"SENTINEL-2\"],\n",
    "            \"name\": [None, None],\n",
    "            \"sensormode\": [None, None],\n",
    "            \"producttype\": [None, None],\n",
    "            \"Attributes\": [None, None],\n",
    "            \"id_query\": [\"test1\", \"test2\"],\n",
    "        }\n",
    "    )\n",
    "    result = qr.fetch_data(gdf=gdf_multi_id, top=1000)\n",
    "    # check that a product is present twice with different id_original_query\n",
    "    counts = result[\"id_original_query\"].value_counts()\n",
    "    return result,counts\n"
   ]
  },
  {
   "cell_type": "code",
   "execution_count": null,
   "id": "569afd87-efb9-4785-ac39-c5eb5e253bfd",
   "metadata": {},
   "outputs": [],
   "source": [
    "result,counts = example()\n",
    "assert all(counts[counts > 1].index.isin([\"test1\", \"test2\"]))\n",
    "result"
   ]
  },
  {
   "cell_type": "code",
   "execution_count": null,
   "id": "e0db1997-adb4-420e-a54d-98c78c72c4c0",
   "metadata": {},
   "outputs": [],
   "source": [
    "counts"
   ]
  },
  {
   "cell_type": "markdown",
   "id": "ad06804f-96bc-4b63-9600-ffe17b8bb2a1",
   "metadata": {},
   "source": [
    "## we can check that product IDs are exatcly the same"
   ]
  },
  {
   "cell_type": "code",
   "execution_count": null,
   "id": "11c94fd0-f48d-4811-91dc-6abf3e416363",
   "metadata": {},
   "outputs": [],
   "source": [
    "cpt_common = 0\n",
    "cpt_uncommon = 0\n",
    "total = 0\n",
    "for uu in result[result['id_original_query']=='test1']['Id']:\n",
    "    total += 1\n",
    "    is_comon = False\n",
    "    for vv in result[result['id_original_query']=='test2']['Id']:\n",
    "        if uu==vv:\n",
    "            # print('bingo')\n",
    "            is_comon = True\n",
    "    if is_comon is True:\n",
    "        cpt_common += 1\n",
    "    else:\n",
    "        cpt_uncommon += 1\n",
    "        # print(uu)\n",
    "print('cpt_common',cpt_common,'/',total)\n",
    "print('cpt_uncommon',cpt_uncommon,'/',total)"
   ]
  },
  {
   "cell_type": "markdown",
   "id": "2e1839d3-9954-47cc-aeba-805644e1671c",
   "metadata": {},
   "source": [
    " doing the same query with a single 'id_query' returns a DataFrame with 78 lines instead of 156"
   ]
  },
  {
   "cell_type": "code",
   "execution_count": null,
   "id": "a4356293-232d-4621-b9c8-dce7c6aeb427",
   "metadata": {},
   "outputs": [],
   "source": [
    "gdf_unique_id = gpd.GeoDataFrame(\n",
    "        {\n",
    "            \"start_datetime\": [\n",
    "                np.datetime64(\"2022-05-03 00:00:00\"),\n",
    "            ],\n",
    "            \"end_datetime\": [\n",
    "                np.datetime64(\"2022-05-03 00:02:00\"),\n",
    "            ],\n",
    "            \"geometry\": [None],\n",
    "            \"collection\": [\"SENTINEL-2\"],\n",
    "            \"name\": [None],\n",
    "            \"sensormode\": [None],\n",
    "            \"producttype\": [None],\n",
    "            \"Attributes\": [None],\n",
    "            \"id_query\": [\"test1\"],\n",
    "        }\n",
    "    )\n",
    "result_2 = qr.fetch_data(gdf=gdf_unique_id, top=1000)\n",
    "result_2"
   ]
  },
  {
   "cell_type": "markdown",
   "id": "84c275a6-d0d8-4083-9066-a93e088413ca",
   "metadata": {},
   "source": [
    "When there is multiple \"id_query\", the input GeoDataFrame is split/group-by into smaller GeoDataFrame with identical \"id_query\".\n",
    "\n",
    "Setting carefully the \"id_query\" column in the input GeoDataFrame is important because it impacts the number of queries and the output returned.\n",
    "\n",
    "In most of the case the 'id_query' column can be filled with a unique value, but for some cases, for instance when co-locating a set of moored buoys with Sentinel products, the user needs the exhaustive list of Sentinel products per location and he also needs to be able to separate the results per location (i.e. buoys)."
   ]
  }
 ],
 "metadata": {
  "kernelspec": {
   "display_name": "Python 3 (ipykernel)",
   "language": "python",
   "name": "python3"
  },
  "language_info": {
   "codemirror_mode": {
    "name": "ipython",
    "version": 3
   },
   "file_extension": ".py",
   "mimetype": "text/x-python",
   "name": "python",
   "nbconvert_exporter": "python",
   "pygments_lexer": "ipython3",
   "version": "3.11.4"
  }
 },
 "nbformat": 4,
 "nbformat_minor": 5
}
