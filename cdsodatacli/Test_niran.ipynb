{
 "cells": [
  {
   "cell_type": "code",
   "execution_count": 1,
   "id": "74e59e8b-d80e-415a-aea0-026abe34af28",
   "metadata": {
    "execution": {
     "iopub.execute_input": "2023-12-11T10:56:31.344321Z",
     "iopub.status.busy": "2023-12-11T10:56:31.343688Z",
     "iopub.status.idle": "2023-12-11T10:56:46.217858Z",
     "shell.execute_reply": "2023-12-11T10:56:46.217210Z",
     "shell.execute_reply.started": "2023-12-11T10:56:31.344264Z"
    }
   },
   "outputs": [],
   "source": [
    "import cdsodatacli.query as qr\n",
    "import datetime\n",
    "import requests\n",
    "import pandas as pd\n",
    "import argparse\n",
    "from shapely.geometry import GeometryCollection, LineString, Point, Polygon, MultiPolygon\n",
    "import geopandas as gpd\n",
    "import shapely\n",
    "from shapely.ops import unary_union\n",
    "import matplotlib.pyplot as plt\n",
    "import cartopy.crs as ccrs\n",
    "import pytz\n",
    "import time\n",
    "from concurrent.futures import ThreadPoolExecutor, as_completed\n",
    "from tqdm import tqdm\n",
    "import warnings\n",
    "import logging "
   ]
  },
  {
   "cell_type": "code",
   "execution_count": 2,
   "id": "61fad001-fba8-42d5-8e02-8693be5683ca",
   "metadata": {
    "execution": {
     "iopub.execute_input": "2023-12-11T10:56:49.788789Z",
     "iopub.status.busy": "2023-12-11T10:56:49.788477Z",
     "iopub.status.idle": "2023-12-11T10:56:49.794925Z",
     "shell.execute_reply": "2023-12-11T10:56:49.794496Z",
     "shell.execute_reply.started": "2023-12-11T10:56:49.788776Z"
    }
   },
   "outputs": [],
   "source": [
    "from importlib import reload\n",
    "reload(logging)\n",
    "logging.basicConfig(level=logging.INFO)"
   ]
  },
  {
   "cell_type": "code",
   "execution_count": 3,
   "id": "71a3e24c-e965-4832-863b-d6a788707aba",
   "metadata": {
    "execution": {
     "iopub.execute_input": "2023-12-11T10:56:53.409350Z",
     "iopub.status.busy": "2023-12-11T10:56:53.409190Z",
     "iopub.status.idle": "2023-12-11T10:56:55.219907Z",
     "shell.execute_reply": "2023-12-11T10:56:55.219285Z",
     "shell.execute_reply.started": "2023-12-11T10:56:53.409338Z"
    },
    "scrolled": true
   },
   "outputs": [
    {
     "ename": "FileNotFoundError",
     "evalue": "[Errno 2] No such file or directory: '/home1/scratch/agrouaze/niran_tc_2021_track_gdf.pkl'",
     "output_type": "error",
     "traceback": [
      "\u001b[0;31m---------------------------------------------------------------------------\u001b[0m",
      "\u001b[0;31mFileNotFoundError\u001b[0m                         Traceback (most recent call last)",
      "Cell \u001b[0;32mIn[3], line 4\u001b[0m\n\u001b[1;32m      2\u001b[0m \u001b[38;5;28;01mimport\u001b[39;00m \u001b[38;5;21;01mos\u001b[39;00m\n\u001b[1;32m      3\u001b[0m ff \u001b[38;5;241m=\u001b[39m \u001b[38;5;124m'\u001b[39m\u001b[38;5;124m/home1/scratch/agrouaze/niran_tc_2021_track_gdf.pkl\u001b[39m\u001b[38;5;124m'\u001b[39m \u001b[38;5;66;03m# 2Oct 2023\u001b[39;00m\n\u001b[0;32m----> 4\u001b[0m fid \u001b[38;5;241m=\u001b[39m \u001b[38;5;28;43mopen\u001b[39;49m\u001b[43m(\u001b[49m\u001b[43mff\u001b[49m\u001b[43m,\u001b[49m\u001b[38;5;124;43m'\u001b[39;49m\u001b[38;5;124;43mrb\u001b[39;49m\u001b[38;5;124;43m'\u001b[39;49m\u001b[43m)\u001b[49m\n\u001b[1;32m      5\u001b[0m data_wave \u001b[38;5;241m=\u001b[39m pickle\u001b[38;5;241m.\u001b[39mload(fid)\n\u001b[1;32m      6\u001b[0m data_wave\n",
      "File \u001b[0;32m/home1/datawork/jrmiadan/env/micromamba2/lib/python3.11/site-packages/IPython/core/interactiveshell.py:286\u001b[0m, in \u001b[0;36m_modified_open\u001b[0;34m(file, *args, **kwargs)\u001b[0m\n\u001b[1;32m    279\u001b[0m \u001b[38;5;28;01mif\u001b[39;00m file \u001b[38;5;129;01min\u001b[39;00m {\u001b[38;5;241m0\u001b[39m, \u001b[38;5;241m1\u001b[39m, \u001b[38;5;241m2\u001b[39m}:\n\u001b[1;32m    280\u001b[0m     \u001b[38;5;28;01mraise\u001b[39;00m \u001b[38;5;167;01mValueError\u001b[39;00m(\n\u001b[1;32m    281\u001b[0m         \u001b[38;5;124mf\u001b[39m\u001b[38;5;124m\"\u001b[39m\u001b[38;5;124mIPython won\u001b[39m\u001b[38;5;124m'\u001b[39m\u001b[38;5;124mt let you open fd=\u001b[39m\u001b[38;5;132;01m{\u001b[39;00mfile\u001b[38;5;132;01m}\u001b[39;00m\u001b[38;5;124m by default \u001b[39m\u001b[38;5;124m\"\u001b[39m\n\u001b[1;32m    282\u001b[0m         \u001b[38;5;124m\"\u001b[39m\u001b[38;5;124mas it is likely to crash IPython. If you know what you are doing, \u001b[39m\u001b[38;5;124m\"\u001b[39m\n\u001b[1;32m    283\u001b[0m         \u001b[38;5;124m\"\u001b[39m\u001b[38;5;124myou can use builtins\u001b[39m\u001b[38;5;124m'\u001b[39m\u001b[38;5;124m open.\u001b[39m\u001b[38;5;124m\"\u001b[39m\n\u001b[1;32m    284\u001b[0m     )\n\u001b[0;32m--> 286\u001b[0m \u001b[38;5;28;01mreturn\u001b[39;00m \u001b[43mio_open\u001b[49m\u001b[43m(\u001b[49m\u001b[43mfile\u001b[49m\u001b[43m,\u001b[49m\u001b[43m \u001b[49m\u001b[38;5;241;43m*\u001b[39;49m\u001b[43margs\u001b[49m\u001b[43m,\u001b[49m\u001b[43m \u001b[49m\u001b[38;5;241;43m*\u001b[39;49m\u001b[38;5;241;43m*\u001b[39;49m\u001b[43mkwargs\u001b[49m\u001b[43m)\u001b[49m\n",
      "\u001b[0;31mFileNotFoundError\u001b[0m: [Errno 2] No such file or directory: '/home1/scratch/agrouaze/niran_tc_2021_track_gdf.pkl'"
     ]
    }
   ],
   "source": [
    "import pickle\n",
    "import os\n",
    "ff = '/home1/scratch/agrouaze/niran_tc_2021_track_gdf.pkl' # 2Oct 2023\n",
    "fid = open(ff,'rb')\n",
    "data_wave = pickle.load(fid)\n",
    "data_wave"
   ]
  },
  {
   "cell_type": "code",
   "execution_count": 7,
   "id": "0743656a-8bf1-4a23-a4e1-bfef4e47ce09",
   "metadata": {
    "execution": {
     "iopub.execute_input": "2023-11-10T13:20:39.131048Z",
     "iopub.status.busy": "2023-11-10T13:20:39.130894Z",
     "iopub.status.idle": "2023-11-10T13:20:45.924161Z",
     "shell.execute_reply": "2023-11-10T13:20:45.923742Z",
     "shell.execute_reply.started": "2023-11-10T13:20:39.131035Z"
    },
    "scrolled": true
   },
   "outputs": [
    {
     "name": "stderr",
     "output_type": "stream",
     "text": [
      "100%|███████████████████████████████████████████| 71/71 [00:06<00:00, 10.50it/s]\n",
      "INFO:root:No data found.\n"
     ]
    },
    {
     "ename": "AttributeError",
     "evalue": "'NoneType' object has no attribute 'to_pickle'",
     "output_type": "error",
     "traceback": [
      "\u001b[0;31m---------------------------------------------------------------------------\u001b[0m",
      "\u001b[0;31mAttributeError\u001b[0m                            Traceback (most recent call last)",
      "Cell \u001b[0;32mIn[7], line 2\u001b[0m\n\u001b[1;32m      1\u001b[0m collected_data \u001b[38;5;241m=\u001b[39m qr\u001b[38;5;241m.\u001b[39mfetch_data(data_wave, figure\u001b[38;5;241m=\u001b[39m\u001b[38;5;28;01mTrue\u001b[39;00m)\n\u001b[0;32m----> 2\u001b[0m \u001b[43mcollected_data\u001b[49m\u001b[38;5;241;43m.\u001b[39;49m\u001b[43mto_pickle\u001b[49m(\u001b[38;5;124m\"\u001b[39m\u001b[38;5;124mhome1/datahome/jrmiadan/data.pkl\u001b[39m\u001b[38;5;124m\"\u001b[39m)\n",
      "\u001b[0;31mAttributeError\u001b[0m: 'NoneType' object has no attribute 'to_pickle'"
     ]
    }
   ],
   "source": [
    "collected_data = qr.fetch_data(data_wave, figure=True)\n",
    "collected_data.to_pickle(\"home1/datahome/jrmiadan/data.pkl\")"
   ]
  },
  {
   "cell_type": "code",
   "execution_count": null,
   "id": "c5224cc6-b2e1-49dc-a2ff-3fce3b2ce153",
   "metadata": {},
   "outputs": [],
   "source": []
  }
 ],
 "metadata": {
  "kernelspec": {
   "display_name": "micromamba2",
   "language": "python",
   "name": "micromamba2"
  },
  "language_info": {
   "codemirror_mode": {
    "name": "ipython",
    "version": 3
   },
   "file_extension": ".py",
   "mimetype": "text/x-python",
   "name": "python",
   "nbconvert_exporter": "python",
   "pygments_lexer": "ipython3",
   "version": "3.11.6"
  }
 },
 "nbformat": 4,
 "nbformat_minor": 5
}
