{
 "cells": [
  {
   "cell_type": "code",
   "execution_count": null,
   "id": "fa196bf4-c77e-4119-b16c-4f460f58eefa",
   "metadata": {},
   "outputs": [],
   "source": [
    "\"\"\"\n",
    "started 6 nov 2023\n",
    "A Grouazel, based on JR Miadana dev\n",
    "\"\"\""
   ]
  },
  {
   "cell_type": "code",
   "execution_count": null,
   "id": "67958976-0516-40d0-bcc3-444e38b8de25",
   "metadata": {},
   "outputs": [],
   "source": [
    "import pandas as pd\n",
    "import datetime\n",
    "import shapely\n",
    "import geopandas as gpd\n",
    "import cdsodatacli"
   ]
  },
  {
   "cell_type": "markdown",
   "id": "a4459ced-bd34-4b2c-b61e-ba4e74ec52ad",
   "metadata": {},
   "source": [
    "# define a GeoDataFrame"
   ]
  },
  {
   "cell_type": "code",
   "execution_count": null,
   "id": "9a9ec1e8-0691-4c6d-a38b-b7e0af23881b",
   "metadata": {},
   "outputs": [],
   "source": [
    "gdf = gpd.GeoDataFrame({\n",
    "        \"start_datetime\" : [ datetime.datetime(2022,10,2,0) ,  datetime.datetime(2022,10,13,0) ],\n",
    "        \"end_datetime\"   : [ datetime.datetime(2022,10,2,21),  datetime.datetime(2022,10,13,18) ],\n",
    "        \"geometry\"   : [ shapely.wkt.loads(\"POINT (-7.5 53)\"),  shapely.wkt.loads(\"POLYGON ((-12 35, -5 35, -5 45, -12 45, -12 35))\")],\n",
    "        \"collection\"  : [ \"SENTINEL-1\", \"SENTINEL-2\"],\n",
    "        \"name\"        : [ None, None],\n",
    "        \"sensormode\"  : [ None, None],\n",
    "        \"producttype\" : [ None, None],\n",
    "        \"Attributes\"  : [ None, None],\n",
    "    })\n",
    "\n",
    "collected_data_norm = cdsodatacli.query.fetch_data(gdf, min_sea_percent=20)"
   ]
  },
  {
   "cell_type": "code",
   "execution_count": null,
   "id": "535b5f91-df3f-4dab-822a-edca3656d2af",
   "metadata": {},
   "outputs": [],
   "source": [
    "collected_data_norm"
   ]
  }
 ],
 "metadata": {
  "kernelspec": {
   "display_name": "Python 3 (ipykernel)",
   "language": "python",
   "name": "python3"
  },
  "language_info": {
   "codemirror_mode": {
    "name": "ipython",
    "version": 3
   },
   "file_extension": ".py",
   "mimetype": "text/x-python",
   "name": "python",
   "nbconvert_exporter": "python",
   "pygments_lexer": "ipython3",
   "version": "3.10.8"
  }
 },
 "nbformat": 4,
 "nbformat_minor": 5
}
