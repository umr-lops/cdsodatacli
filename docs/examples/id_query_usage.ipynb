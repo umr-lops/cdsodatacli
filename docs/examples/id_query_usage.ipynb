{
 "cells": [
  {
   "cell_type": "markdown",
   "id": "0",
   "metadata": {},
   "source": [
    "# How to use 'id_query' ?"
   ]
  },
  {
   "cell_type": "markdown",
   "id": "1",
   "metadata": {},
   "source": [
    "the 'id_query' is used in the Geo Pandas DataFrame as a key to distinguish different requests passed through the same GeoDataFrame.\n",
    "\n",
    "Exact same query given twice with distinct 'id_query' will result in excact same results but stored twice in the output DataFrame.\n",
    "\n",
    "The 'id_query' is also stored in the output DataFrame as 'id_original_query'."
   ]
  },
  {
   "cell_type": "code",
   "execution_count": null,
   "id": "2",
   "metadata": {},
   "outputs": [],
   "source": [
    "import geopandas as gpd\n",
    "import numpy as np\n",
    "import cdsodatacli.query as qr\n",
    "def example():\n",
    "    \"\"\"\n",
    "    define a query with 2 identical sets of parameters except 'id_query'\n",
    "    \"\"\"\n",
    "    gdf_multi_id = gpd.GeoDataFrame(\n",
    "        {\n",
    "            \"start_datetime\": [\n",
    "                np.datetime64(\"2022-05-03 00:00:00\"),\n",
    "                np.datetime64(\"2022-05-03 00:00:00\"),\n",
    "            ],\n",
    "            \"end_datetime\": [\n",
    "                np.datetime64(\"2022-05-03 00:02:00\"),\n",
    "                np.datetime64(\"2022-05-03 00:02:00\"),\n",
    "            ],\n",
    "            \"geometry\": [None, None],\n",
    "            \"collection\": [\"SENTINEL-2\", \"SENTINEL-2\"],\n",
    "            \"name\": [None, None],\n",
    "            \"sensormode\": [None, None],\n",
    "            \"producttype\": [None, None],\n",
    "            \"Attributes\": [None, None],\n",
    "            \"id_query\": [\"test1\", \"test2\"],\n",
    "        }\n",
    "    )\n",
    "    result = qr.fetch_data(gdf=gdf_multi_id, top=1000)\n",
    "    # check that a product is present twice with different id_original_query\n",
    "    counts = result[\"id_original_query\"].value_counts()\n",
    "    return result,counts\n"
   ]
  },
  {
   "cell_type": "code",
   "execution_count": null,
   "id": "3",
   "metadata": {},
   "outputs": [],
   "source": [
    "result,counts = example()\n",
    "assert all(counts[counts > 1].index.isin([\"test1\", \"test2\"]))\n",
    "result"
   ]
  },
  {
   "cell_type": "code",
   "execution_count": null,
   "id": "4",
   "metadata": {},
   "outputs": [],
   "source": [
    "counts"
   ]
  },
  {
   "cell_type": "markdown",
   "id": "5",
   "metadata": {},
   "source": [
    "## we can check that product IDs are exatcly the same"
   ]
  },
  {
   "cell_type": "code",
   "execution_count": null,
   "id": "6",
   "metadata": {},
   "outputs": [],
   "source": [
    "cpt_common = 0\n",
    "cpt_uncommon = 0\n",
    "total = 0\n",
    "for uu in result[result['id_original_query']=='test1']['Id']:\n",
    "    total += 1\n",
    "    is_comon = False\n",
    "    for vv in result[result['id_original_query']=='test2']['Id']:\n",
    "        if uu==vv:\n",
    "            # print('bingo')\n",
    "            is_comon = True\n",
    "    if is_comon is True:\n",
    "        cpt_common += 1\n",
    "    else:\n",
    "        cpt_uncommon += 1\n",
    "        # print(uu)\n",
    "print('cpt_common',cpt_common,'/',total)\n",
    "print('cpt_uncommon',cpt_uncommon,'/',total)"
   ]
  },
  {
   "cell_type": "markdown",
   "id": "7",
   "metadata": {},
   "source": [
    " doing the same query with a single 'id_query' returns a DataFrame with 78 lines instead of 156"
   ]
  },
  {
   "cell_type": "code",
   "execution_count": null,
   "id": "8",
   "metadata": {},
   "outputs": [],
   "source": [
    "gdf_unique_id = gpd.GeoDataFrame(\n",
    "        {\n",
    "            \"start_datetime\": [\n",
    "                np.datetime64(\"2022-05-03 00:00:00\"),\n",
    "            ],\n",
    "            \"end_datetime\": [\n",
    "                np.datetime64(\"2022-05-03 00:02:00\"),\n",
    "            ],\n",
    "            \"geometry\": [None],\n",
    "            \"collection\": [\"SENTINEL-2\"],\n",
    "            \"name\": [None],\n",
    "            \"sensormode\": [None],\n",
    "            \"producttype\": [None],\n",
    "            \"Attributes\": [None],\n",
    "            \"id_query\": [\"test1\"],\n",
    "        }\n",
    "    )\n",
    "result_2 = qr.fetch_data(gdf=gdf_unique_id, top=1000)\n",
    "result_2"
   ]
  },
  {
   "cell_type": "markdown",
   "id": "9",
   "metadata": {},
   "source": [
    "When there is multiple \"id_query\", the input GeoDataFrame is split/group-by into smaller GeoDataFrame with identical \"id_query\".\n",
    "\n",
    "Setting carefully the \"id_query\" column in the input GeoDataFrame is important because it impacts the number of queries and the output returned.\n",
    "\n",
    "In most of the case the 'id_query' column can be filled with a unique value, but for some cases, for instance when co-locating a set of moored buoys with Sentinel products, the user needs the exhaustive list of Sentinel products per location and he also needs to be able to separate the results per location (i.e. buoys)."
   ]
  }
 ],
 "metadata": {
  "language_info": {
   "codemirror_mode": {
    "name": "ipython",
    "version": 3
   },
   "file_extension": ".py",
   "mimetype": "text/x-python",
   "name": "python",
   "nbconvert_exporter": "python",
   "pygments_lexer": "ipython3"
  }
 },
 "nbformat": 4,
 "nbformat_minor": 5
}
